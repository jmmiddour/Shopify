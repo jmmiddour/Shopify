{
  "nbformat": 4,
  "nbformat_minor": 0,
  "metadata": {
    "colab": {
      "name": "Joanne_Middour_Fall_2021_Data_Science_Intern_Challenge.ipynb",
      "provenance": [],
      "toc_visible": true
    },
    "kernelspec": {
      "name": "python3",
      "display_name": "Python 3"
    },
    "language_info": {
      "name": "python"
    }
  },
  "cells": [
    {
      "cell_type": "markdown",
      "metadata": {
        "id": "0y9-YOC7QXQi"
      },
      "source": [
        "# Fall 2021 Data Science Intern Challenge\n",
        "\n",
        "## Canidate: **Joanne Middour**\n",
        "\n",
        "**Problem:** \n",
        "\n",
        "[Click here to access the required data set](https://docs.google.com/spreadsheets/d/16i38oonuX1y1g7C_UAmiK9GkY7cS-64DfiDMNiR41LM/edit#gid=0)\n",
        "\n",
        "Given some sample data, write a program to answer the following: \n",
        "\n",
        "On Shopify, we have exactly *100 sneaker shops*, and each of these shops sells only *one model of shoe*. We want to do some analysis of the average order value (AOV). When we look at orders data over a 30-day window, we naively calculate an AOV of $3145.13. Given that we know these shops are selling sneakers, a relatively affordable item, something seems wrong with our analysis. \n",
        "\n",
        "Think about what could be going wrong with our calculation. \n",
        "\n",
        "- Think about a better way to evaluate this data. \n",
        "- What metric would you report for this dataset?\n",
        "- What is its value?\n"
      ]
    },
    {
      "cell_type": "markdown",
      "metadata": {
        "id": "WWWfSmIATVq5"
      },
      "source": [
        "## Imports"
      ]
    },
    {
      "cell_type": "code",
      "metadata": {
        "id": "0bE1ywJ2TYkJ"
      },
      "source": [
        "import pandas as pd\n",
        "import numpy as np\n",
        "\n",
        "import matplotlib.pyplot as plt\n",
        "import seaborn as sns"
      ],
      "execution_count": 1,
      "outputs": []
    },
    {
      "cell_type": "markdown",
      "metadata": {
        "id": "_5yWZPTqRUmS"
      },
      "source": [
        "## Exploritory Data Analysis (EDA)"
      ]
    },
    {
      "cell_type": "markdown",
      "metadata": {
        "id": "fMXlp5q6gsLj"
      },
      "source": [
        "Read in the data and look at it to see what I have to work with.\n",
        "\n",
        "Things to look for:\n",
        "- How many observations are in this data?\n",
        "- How many columns are in this data?\n",
        "- What types of data do I have?\n",
        "- What is the main column(s) I need to focus on that will be most helpful?\n",
        "- Are there any outliers?\n",
        "- If there are outliers, might have to remove them to get an accurate value."
      ]
    },
    {
      "cell_type": "code",
      "metadata": {
        "colab": {
          "base_uri": "https://localhost:8080/",
          "height": 221
        },
        "id": "63mK4bIcQLPQ",
        "outputId": "0ff86f53-bac1-4799-cb7f-904a01ef72b6"
      },
      "source": [
        "# Read in the dataset as a pandas DataFrame\n",
        "orders = pd.read_csv(\n",
        "    \"/content/2019 Winter Data Science Intern Challenge Data Set - Sheet1.csv\"\n",
        "    )\n",
        "\n",
        "# Look at the number of observations and columns in the dataset\n",
        "print(orders.shape)\n",
        "\n",
        "# Look at the first five rows of the DataFrame\n",
        "orders.head()"
      ],
      "execution_count": 2,
      "outputs": [
        {
          "output_type": "stream",
          "text": [
            "(5000, 7)\n"
          ],
          "name": "stdout"
        },
        {
          "output_type": "execute_result",
          "data": {
            "text/html": [
              "<div>\n",
              "<style scoped>\n",
              "    .dataframe tbody tr th:only-of-type {\n",
              "        vertical-align: middle;\n",
              "    }\n",
              "\n",
              "    .dataframe tbody tr th {\n",
              "        vertical-align: top;\n",
              "    }\n",
              "\n",
              "    .dataframe thead th {\n",
              "        text-align: right;\n",
              "    }\n",
              "</style>\n",
              "<table border=\"1\" class=\"dataframe\">\n",
              "  <thead>\n",
              "    <tr style=\"text-align: right;\">\n",
              "      <th></th>\n",
              "      <th>order_id</th>\n",
              "      <th>shop_id</th>\n",
              "      <th>user_id</th>\n",
              "      <th>order_amount</th>\n",
              "      <th>total_items</th>\n",
              "      <th>payment_method</th>\n",
              "      <th>created_at</th>\n",
              "    </tr>\n",
              "  </thead>\n",
              "  <tbody>\n",
              "    <tr>\n",
              "      <th>0</th>\n",
              "      <td>1</td>\n",
              "      <td>53</td>\n",
              "      <td>746</td>\n",
              "      <td>224</td>\n",
              "      <td>2</td>\n",
              "      <td>cash</td>\n",
              "      <td>2017-03-13 12:36:56</td>\n",
              "    </tr>\n",
              "    <tr>\n",
              "      <th>1</th>\n",
              "      <td>2</td>\n",
              "      <td>92</td>\n",
              "      <td>925</td>\n",
              "      <td>90</td>\n",
              "      <td>1</td>\n",
              "      <td>cash</td>\n",
              "      <td>2017-03-03 17:38:52</td>\n",
              "    </tr>\n",
              "    <tr>\n",
              "      <th>2</th>\n",
              "      <td>3</td>\n",
              "      <td>44</td>\n",
              "      <td>861</td>\n",
              "      <td>144</td>\n",
              "      <td>1</td>\n",
              "      <td>cash</td>\n",
              "      <td>2017-03-14 4:23:56</td>\n",
              "    </tr>\n",
              "    <tr>\n",
              "      <th>3</th>\n",
              "      <td>4</td>\n",
              "      <td>18</td>\n",
              "      <td>935</td>\n",
              "      <td>156</td>\n",
              "      <td>1</td>\n",
              "      <td>credit_card</td>\n",
              "      <td>2017-03-26 12:43:37</td>\n",
              "    </tr>\n",
              "    <tr>\n",
              "      <th>4</th>\n",
              "      <td>5</td>\n",
              "      <td>18</td>\n",
              "      <td>883</td>\n",
              "      <td>156</td>\n",
              "      <td>1</td>\n",
              "      <td>credit_card</td>\n",
              "      <td>2017-03-01 4:35:11</td>\n",
              "    </tr>\n",
              "  </tbody>\n",
              "</table>\n",
              "</div>"
            ],
            "text/plain": [
              "   order_id  shop_id  user_id  ...  total_items  payment_method           created_at\n",
              "0         1       53      746  ...            2            cash  2017-03-13 12:36:56\n",
              "1         2       92      925  ...            1            cash  2017-03-03 17:38:52\n",
              "2         3       44      861  ...            1            cash   2017-03-14 4:23:56\n",
              "3         4       18      935  ...            1     credit_card  2017-03-26 12:43:37\n",
              "4         5       18      883  ...            1     credit_card   2017-03-01 4:35:11\n",
              "\n",
              "[5 rows x 7 columns]"
            ]
          },
          "metadata": {
            "tags": []
          },
          "execution_count": 2
        }
      ]
    },
    {
      "cell_type": "code",
      "metadata": {
        "colab": {
          "base_uri": "https://localhost:8080/",
          "height": 204
        },
        "id": "vOsUdQbmTr-G",
        "outputId": "4300cb10-9246-4dc1-fbaa-7261a65c7d24"
      },
      "source": [
        "# What does the last five rows of the DataFrame look like?\n",
        "orders.tail()"
      ],
      "execution_count": 3,
      "outputs": [
        {
          "output_type": "execute_result",
          "data": {
            "text/html": [
              "<div>\n",
              "<style scoped>\n",
              "    .dataframe tbody tr th:only-of-type {\n",
              "        vertical-align: middle;\n",
              "    }\n",
              "\n",
              "    .dataframe tbody tr th {\n",
              "        vertical-align: top;\n",
              "    }\n",
              "\n",
              "    .dataframe thead th {\n",
              "        text-align: right;\n",
              "    }\n",
              "</style>\n",
              "<table border=\"1\" class=\"dataframe\">\n",
              "  <thead>\n",
              "    <tr style=\"text-align: right;\">\n",
              "      <th></th>\n",
              "      <th>order_id</th>\n",
              "      <th>shop_id</th>\n",
              "      <th>user_id</th>\n",
              "      <th>order_amount</th>\n",
              "      <th>total_items</th>\n",
              "      <th>payment_method</th>\n",
              "      <th>created_at</th>\n",
              "    </tr>\n",
              "  </thead>\n",
              "  <tbody>\n",
              "    <tr>\n",
              "      <th>4995</th>\n",
              "      <td>4996</td>\n",
              "      <td>73</td>\n",
              "      <td>993</td>\n",
              "      <td>330</td>\n",
              "      <td>2</td>\n",
              "      <td>debit</td>\n",
              "      <td>2017-03-30 13:47:17</td>\n",
              "    </tr>\n",
              "    <tr>\n",
              "      <th>4996</th>\n",
              "      <td>4997</td>\n",
              "      <td>48</td>\n",
              "      <td>789</td>\n",
              "      <td>234</td>\n",
              "      <td>2</td>\n",
              "      <td>cash</td>\n",
              "      <td>2017-03-16 20:36:16</td>\n",
              "    </tr>\n",
              "    <tr>\n",
              "      <th>4997</th>\n",
              "      <td>4998</td>\n",
              "      <td>56</td>\n",
              "      <td>867</td>\n",
              "      <td>351</td>\n",
              "      <td>3</td>\n",
              "      <td>cash</td>\n",
              "      <td>2017-03-19 5:42:42</td>\n",
              "    </tr>\n",
              "    <tr>\n",
              "      <th>4998</th>\n",
              "      <td>4999</td>\n",
              "      <td>60</td>\n",
              "      <td>825</td>\n",
              "      <td>354</td>\n",
              "      <td>2</td>\n",
              "      <td>credit_card</td>\n",
              "      <td>2017-03-16 14:51:18</td>\n",
              "    </tr>\n",
              "    <tr>\n",
              "      <th>4999</th>\n",
              "      <td>5000</td>\n",
              "      <td>44</td>\n",
              "      <td>734</td>\n",
              "      <td>288</td>\n",
              "      <td>2</td>\n",
              "      <td>debit</td>\n",
              "      <td>2017-03-18 15:48:18</td>\n",
              "    </tr>\n",
              "  </tbody>\n",
              "</table>\n",
              "</div>"
            ],
            "text/plain": [
              "      order_id  shop_id  ...  payment_method           created_at\n",
              "4995      4996       73  ...           debit  2017-03-30 13:47:17\n",
              "4996      4997       48  ...            cash  2017-03-16 20:36:16\n",
              "4997      4998       56  ...            cash   2017-03-19 5:42:42\n",
              "4998      4999       60  ...     credit_card  2017-03-16 14:51:18\n",
              "4999      5000       44  ...           debit  2017-03-18 15:48:18\n",
              "\n",
              "[5 rows x 7 columns]"
            ]
          },
          "metadata": {
            "tags": []
          },
          "execution_count": 3
        }
      ]
    },
    {
      "cell_type": "code",
      "metadata": {
        "colab": {
          "base_uri": "https://localhost:8080/"
        },
        "id": "crfi7DpcT1jF",
        "outputId": "a1ff2f93-1bf2-4340-bd19-62b08b9a3c94"
      },
      "source": [
        "# Make sure all of the shop ids are equal to the number of sneaker shops\n",
        "orders.shop_id.value_counts()\n",
        "\n",
        "# The problem states that there are 100 sneaker shops and there are 100 unique\n",
        "#   shop_ids, so that tells me that I can assume these are all the sneaker\n",
        "#   shop ids and that there are no other shops included in this data."
      ],
      "execution_count": 4,
      "outputs": [
        {
          "output_type": "execute_result",
          "data": {
            "text/plain": [
              "53    68\n",
              "71    66\n",
              "19    64\n",
              "13    63\n",
              "89    61\n",
              "      ..\n",
              "74    38\n",
              "56    37\n",
              "67    37\n",
              "38    35\n",
              "85    35\n",
              "Name: shop_id, Length: 100, dtype: int64"
            ]
          },
          "metadata": {
            "tags": []
          },
          "execution_count": 4
        }
      ]
    },
    {
      "cell_type": "code",
      "metadata": {
        "colab": {
          "base_uri": "https://localhost:8080/"
        },
        "id": "SYYF_YjCYIys",
        "outputId": "9dff724f-dc23-41de-9a16-479977e88408"
      },
      "source": [
        "# Check if there are any null/NaN values\n",
        "orders.isnull().sum()\n",
        "\n",
        "# There are no null/NaN values in this dataset"
      ],
      "execution_count": 5,
      "outputs": [
        {
          "output_type": "execute_result",
          "data": {
            "text/plain": [
              "order_id          0\n",
              "shop_id           0\n",
              "user_id           0\n",
              "order_amount      0\n",
              "total_items       0\n",
              "payment_method    0\n",
              "created_at        0\n",
              "dtype: int64"
            ]
          },
          "metadata": {
            "tags": []
          },
          "execution_count": 5
        }
      ]
    },
    {
      "cell_type": "markdown",
      "metadata": {
        "id": "HR9ok6zyjaqU"
      },
      "source": [
        "Take a look at the statistical data for this dataset:"
      ]
    },
    {
      "cell_type": "code",
      "metadata": {
        "colab": {
          "base_uri": "https://localhost:8080/",
          "height": 297
        },
        "id": "SiD7VbsjYZDU",
        "outputId": "61c77454-dd72-445a-f72d-1fa64d4aada5"
      },
      "source": [
        "# Look at the statistics of the data\n",
        "orders.describe()"
      ],
      "execution_count": 6,
      "outputs": [
        {
          "output_type": "execute_result",
          "data": {
            "text/html": [
              "<div>\n",
              "<style scoped>\n",
              "    .dataframe tbody tr th:only-of-type {\n",
              "        vertical-align: middle;\n",
              "    }\n",
              "\n",
              "    .dataframe tbody tr th {\n",
              "        vertical-align: top;\n",
              "    }\n",
              "\n",
              "    .dataframe thead th {\n",
              "        text-align: right;\n",
              "    }\n",
              "</style>\n",
              "<table border=\"1\" class=\"dataframe\">\n",
              "  <thead>\n",
              "    <tr style=\"text-align: right;\">\n",
              "      <th></th>\n",
              "      <th>order_id</th>\n",
              "      <th>shop_id</th>\n",
              "      <th>user_id</th>\n",
              "      <th>order_amount</th>\n",
              "      <th>total_items</th>\n",
              "    </tr>\n",
              "  </thead>\n",
              "  <tbody>\n",
              "    <tr>\n",
              "      <th>count</th>\n",
              "      <td>5000.000000</td>\n",
              "      <td>5000.000000</td>\n",
              "      <td>5000.000000</td>\n",
              "      <td>5000.000000</td>\n",
              "      <td>5000.00000</td>\n",
              "    </tr>\n",
              "    <tr>\n",
              "      <th>mean</th>\n",
              "      <td>2500.500000</td>\n",
              "      <td>50.078800</td>\n",
              "      <td>849.092400</td>\n",
              "      <td>3145.128000</td>\n",
              "      <td>8.78720</td>\n",
              "    </tr>\n",
              "    <tr>\n",
              "      <th>std</th>\n",
              "      <td>1443.520003</td>\n",
              "      <td>29.006118</td>\n",
              "      <td>87.798982</td>\n",
              "      <td>41282.539349</td>\n",
              "      <td>116.32032</td>\n",
              "    </tr>\n",
              "    <tr>\n",
              "      <th>min</th>\n",
              "      <td>1.000000</td>\n",
              "      <td>1.000000</td>\n",
              "      <td>607.000000</td>\n",
              "      <td>90.000000</td>\n",
              "      <td>1.00000</td>\n",
              "    </tr>\n",
              "    <tr>\n",
              "      <th>25%</th>\n",
              "      <td>1250.750000</td>\n",
              "      <td>24.000000</td>\n",
              "      <td>775.000000</td>\n",
              "      <td>163.000000</td>\n",
              "      <td>1.00000</td>\n",
              "    </tr>\n",
              "    <tr>\n",
              "      <th>50%</th>\n",
              "      <td>2500.500000</td>\n",
              "      <td>50.000000</td>\n",
              "      <td>849.000000</td>\n",
              "      <td>284.000000</td>\n",
              "      <td>2.00000</td>\n",
              "    </tr>\n",
              "    <tr>\n",
              "      <th>75%</th>\n",
              "      <td>3750.250000</td>\n",
              "      <td>75.000000</td>\n",
              "      <td>925.000000</td>\n",
              "      <td>390.000000</td>\n",
              "      <td>3.00000</td>\n",
              "    </tr>\n",
              "    <tr>\n",
              "      <th>max</th>\n",
              "      <td>5000.000000</td>\n",
              "      <td>100.000000</td>\n",
              "      <td>999.000000</td>\n",
              "      <td>704000.000000</td>\n",
              "      <td>2000.00000</td>\n",
              "    </tr>\n",
              "  </tbody>\n",
              "</table>\n",
              "</div>"
            ],
            "text/plain": [
              "          order_id      shop_id      user_id   order_amount  total_items\n",
              "count  5000.000000  5000.000000  5000.000000    5000.000000   5000.00000\n",
              "mean   2500.500000    50.078800   849.092400    3145.128000      8.78720\n",
              "std    1443.520003    29.006118    87.798982   41282.539349    116.32032\n",
              "min       1.000000     1.000000   607.000000      90.000000      1.00000\n",
              "25%    1250.750000    24.000000   775.000000     163.000000      1.00000\n",
              "50%    2500.500000    50.000000   849.000000     284.000000      2.00000\n",
              "75%    3750.250000    75.000000   925.000000     390.000000      3.00000\n",
              "max    5000.000000   100.000000   999.000000  704000.000000   2000.00000"
            ]
          },
          "metadata": {
            "tags": []
          },
          "execution_count": 6
        }
      ]
    },
    {
      "cell_type": "markdown",
      "metadata": {
        "id": "rvKdAfF5jlYt"
      },
      "source": [
        "After looking at the statistical data, it is obvious that there are some outliers in the `order_amount` feature. I can assume that this is where the `AOV of $3145.13` came from. Since this is telling me that the mean (average) of this feature (column) is `$3145.128000`.\n",
        "\n",
        "Based on just this little piece of information I can already infer that there are outliers in this data. Some things that alert me to this are:\n",
        "- The mean is `3145.128000`\n",
        "- However, the 50 percentile is only `284.000000`, \n",
        "- and the 75 percentile is only `390.000000`\n",
        "\n",
        "Need to do further analysis to determine how to handle these outliers."
      ]
    },
    {
      "cell_type": "markdown",
      "metadata": {
        "id": "VWlolXkclJqV"
      },
      "source": [
        "### Visualizations\n",
        "\n",
        "Create some visualiztions to get a better feel for the data."
      ]
    },
    {
      "cell_type": "code",
      "metadata": {
        "colab": {
          "base_uri": "https://localhost:8080/",
          "height": 265
        },
        "id": "hr2I8M6dT-nt",
        "outputId": "e3b729ae-7ec6-4ae1-a39c-8283443d516e"
      },
      "source": [
        "# Check for outliers using a histogram\n",
        "plt.hist(orders.order_amount, bins=5);"
      ],
      "execution_count": 7,
      "outputs": [
        {
          "output_type": "display_data",
          "data": {
            "image/png": "[encoded data removed]",
            "text/plain": [
              "<Figure size 432x288 with 1 Axes>"
            ]
          },
          "metadata": {
            "tags": [],
            "needs_background": "light"
          }
        }
      ]
    },
    {
      "cell_type": "code",
      "metadata": {
        "colab": {
          "base_uri": "https://localhost:8080/",
          "height": 266
        },
        "id": "NGUJzQOLWgC1",
        "outputId": "faed8dcd-a8d8-413a-943a-a665a8626704"
      },
      "source": [
        "# Plot out the order amounts using a box plot\n",
        "orders.order_amount.plot(kind='box');"
      ],
      "execution_count": 8,
      "outputs": [
        {
          "output_type": "display_data",
          "data": {
            "image/png": "[encoded data removed]",
            "text/plain": [
              "<Figure size 432x288 with 1 Axes>"
            ]
          },
          "metadata": {
            "tags": [],
            "needs_background": "light"
          }
        }
      ]
    },
    {
      "cell_type": "markdown",
      "metadata": {
        "id": "-8QD7IRnlozb"
      },
      "source": [
        "Can see from the histogram and the box plot where the outliers fall. With the data I have been given I will try to explore it futher to see if I can find out why these amounts vary so much from the majority. "
      ]
    },
    {
      "cell_type": "markdown",
      "metadata": {
        "id": "tuSeQ76qBs5-"
      },
      "source": [
        "### Futher Exploration\n"
      ]
    },
    {
      "cell_type": "code",
      "metadata": {
        "colab": {
          "base_uri": "https://localhost:8080/"
        },
        "id": "gcR3LSY6ggrv",
        "outputId": "124155ae-955d-45e7-a1d2-8e4a2bdb4236"
      },
      "source": [
        "# What is the median amount for the orders\n",
        "orders.order_amount.median()"
      ],
      "execution_count": 9,
      "outputs": [
        {
          "output_type": "execute_result",
          "data": {
            "text/plain": [
              "284.0"
            ]
          },
          "metadata": {
            "tags": []
          },
          "execution_count": 9
        }
      ]
    },
    {
      "cell_type": "code",
      "metadata": {
        "colab": {
          "base_uri": "https://localhost:8080/"
        },
        "id": "6XHzsAfjXRHy",
        "outputId": "6b5bc8b0-1060-4444-82a0-07962a255773"
      },
      "source": [
        "# Look at the top 30 highest order amounts and the number of times they appear\n",
        "orders.order_amount.value_counts().sort_index(ascending=False).head(30)"
      ],
      "execution_count": 10,
      "outputs": [
        {
          "output_type": "execute_result",
          "data": {
            "text/plain": [
              "704000    17\n",
              "154350     1\n",
              "102900     1\n",
              "77175      9\n",
              "51450     16\n",
              "25725     19\n",
              "1760       1\n",
              "1408       2\n",
              "1086       1\n",
              "1064       1\n",
              "1056       3\n",
              "980        1\n",
              "965        1\n",
              "960        2\n",
              "948        1\n",
              "935        3\n",
              "920        1\n",
              "890        1\n",
              "885        2\n",
              "880        3\n",
              "865        2\n",
              "845        1\n",
              "830        3\n",
              "816        1\n",
              "815        2\n",
              "810        1\n",
              "805        2\n",
              "804        2\n",
              "800        3\n",
              "790        2\n",
              "Name: order_amount, dtype: int64"
            ]
          },
          "metadata": {
            "tags": []
          },
          "execution_count": 10
        }
      ]
    },
    {
      "cell_type": "markdown",
      "metadata": {
        "id": "kEzsTK4c7dfe"
      },
      "source": [
        "The majority of these values are occuring a small number of times, i.e. 1-3 times, and the ones that are occuring more frequently are still not of real significance being that the dataset is 5000 observations, but it is enough that it will throw off the mean (average) value."
      ]
    },
    {
      "cell_type": "code",
      "metadata": {
        "colab": {
          "base_uri": "https://localhost:8080/",
          "height": 204
        },
        "id": "DjrV8Wt7ZQ6k",
        "outputId": "b7a19e9f-9e38-45d9-e0ae-66d6b732a762"
      },
      "source": [
        "# Create an \"outlier\" column for any order amount that is greater than the \n",
        "#   75 percentile value, adding a 1 to the column if it is an outlier and \n",
        "#   a 0 to the column if it is not considered an outlier\n",
        "orders['outlier'] = np.where(orders.order_amount > 390, 1, 0)\n",
        "\n",
        "# Check my work by looking at the first 5 rows of the orders dataset\n",
        "orders.head()"
      ],
      "execution_count": 11,
      "outputs": [
        {
          "output_type": "execute_result",
          "data": {
            "text/html": [
              "<div>\n",
              "<style scoped>\n",
              "    .dataframe tbody tr th:only-of-type {\n",
              "        vertical-align: middle;\n",
              "    }\n",
              "\n",
              "    .dataframe tbody tr th {\n",
              "        vertical-align: top;\n",
              "    }\n",
              "\n",
              "    .dataframe thead th {\n",
              "        text-align: right;\n",
              "    }\n",
              "</style>\n",
              "<table border=\"1\" class=\"dataframe\">\n",
              "  <thead>\n",
              "    <tr style=\"text-align: right;\">\n",
              "      <th></th>\n",
              "      <th>order_id</th>\n",
              "      <th>shop_id</th>\n",
              "      <th>user_id</th>\n",
              "      <th>order_amount</th>\n",
              "      <th>total_items</th>\n",
              "      <th>payment_method</th>\n",
              "      <th>created_at</th>\n",
              "      <th>outlier</th>\n",
              "    </tr>\n",
              "  </thead>\n",
              "  <tbody>\n",
              "    <tr>\n",
              "      <th>0</th>\n",
              "      <td>1</td>\n",
              "      <td>53</td>\n",
              "      <td>746</td>\n",
              "      <td>224</td>\n",
              "      <td>2</td>\n",
              "      <td>cash</td>\n",
              "      <td>2017-03-13 12:36:56</td>\n",
              "      <td>0</td>\n",
              "    </tr>\n",
              "    <tr>\n",
              "      <th>1</th>\n",
              "      <td>2</td>\n",
              "      <td>92</td>\n",
              "      <td>925</td>\n",
              "      <td>90</td>\n",
              "      <td>1</td>\n",
              "      <td>cash</td>\n",
              "      <td>2017-03-03 17:38:52</td>\n",
              "      <td>0</td>\n",
              "    </tr>\n",
              "    <tr>\n",
              "      <th>2</th>\n",
              "      <td>3</td>\n",
              "      <td>44</td>\n",
              "      <td>861</td>\n",
              "      <td>144</td>\n",
              "      <td>1</td>\n",
              "      <td>cash</td>\n",
              "      <td>2017-03-14 4:23:56</td>\n",
              "      <td>0</td>\n",
              "    </tr>\n",
              "    <tr>\n",
              "      <th>3</th>\n",
              "      <td>4</td>\n",
              "      <td>18</td>\n",
              "      <td>935</td>\n",
              "      <td>156</td>\n",
              "      <td>1</td>\n",
              "      <td>credit_card</td>\n",
              "      <td>2017-03-26 12:43:37</td>\n",
              "      <td>0</td>\n",
              "    </tr>\n",
              "    <tr>\n",
              "      <th>4</th>\n",
              "      <td>5</td>\n",
              "      <td>18</td>\n",
              "      <td>883</td>\n",
              "      <td>156</td>\n",
              "      <td>1</td>\n",
              "      <td>credit_card</td>\n",
              "      <td>2017-03-01 4:35:11</td>\n",
              "      <td>0</td>\n",
              "    </tr>\n",
              "  </tbody>\n",
              "</table>\n",
              "</div>"
            ],
            "text/plain": [
              "   order_id  shop_id  user_id  ...  payment_method           created_at outlier\n",
              "0         1       53      746  ...            cash  2017-03-13 12:36:56       0\n",
              "1         2       92      925  ...            cash  2017-03-03 17:38:52       0\n",
              "2         3       44      861  ...            cash   2017-03-14 4:23:56       0\n",
              "3         4       18      935  ...     credit_card  2017-03-26 12:43:37       0\n",
              "4         5       18      883  ...     credit_card   2017-03-01 4:35:11       0\n",
              "\n",
              "[5 rows x 8 columns]"
            ]
          },
          "metadata": {
            "tags": []
          },
          "execution_count": 11
        }
      ]
    },
    {
      "cell_type": "markdown",
      "metadata": {
        "id": "FQaSGSr89j5u"
      },
      "source": [
        "Now that I have a column that seperates the outliers from the non-outlier, I can create a new DataFrame with just the outliers for further exploration."
      ]
    },
    {
      "cell_type": "code",
      "metadata": {
        "colab": {
          "base_uri": "https://localhost:8080/",
          "height": 686
        },
        "id": "gI4j29CBZ5j8",
        "outputId": "96caa287-f5fd-413f-ebd4-12884eb10cbb"
      },
      "source": [
        "# Pull all the rows where the outlier value is 1 and create a new DataFrame\n",
        "outliers = orders.loc[orders['outlier'] == 1]\n",
        "\n",
        "# Check my work\n",
        "print(outliers.shape)\n",
        "# Explore some of the values\n",
        "outliers.head(20)"
      ],
      "execution_count": 12,
      "outputs": [
        {
          "output_type": "stream",
          "text": [
            "(1247, 8)\n"
          ],
          "name": "stdout"
        },
        {
          "output_type": "execute_result",
          "data": {
            "text/html": [
              "<div>\n",
              "<style scoped>\n",
              "    .dataframe tbody tr th:only-of-type {\n",
              "        vertical-align: middle;\n",
              "    }\n",
              "\n",
              "    .dataframe tbody tr th {\n",
              "        vertical-align: top;\n",
              "    }\n",
              "\n",
              "    .dataframe thead th {\n",
              "        text-align: right;\n",
              "    }\n",
              "</style>\n",
              "<table border=\"1\" class=\"dataframe\">\n",
              "  <thead>\n",
              "    <tr style=\"text-align: right;\">\n",
              "      <th></th>\n",
              "      <th>order_id</th>\n",
              "      <th>shop_id</th>\n",
              "      <th>user_id</th>\n",
              "      <th>order_amount</th>\n",
              "      <th>total_items</th>\n",
              "      <th>payment_method</th>\n",
              "      <th>created_at</th>\n",
              "      <th>outlier</th>\n",
              "    </tr>\n",
              "  </thead>\n",
              "  <tbody>\n",
              "    <tr>\n",
              "      <th>14</th>\n",
              "      <td>15</td>\n",
              "      <td>87</td>\n",
              "      <td>849</td>\n",
              "      <td>447</td>\n",
              "      <td>3</td>\n",
              "      <td>credit_card</td>\n",
              "      <td>2017-03-10 11:23:18</td>\n",
              "      <td>1</td>\n",
              "    </tr>\n",
              "    <tr>\n",
              "      <th>15</th>\n",
              "      <td>16</td>\n",
              "      <td>42</td>\n",
              "      <td>607</td>\n",
              "      <td>704000</td>\n",
              "      <td>2000</td>\n",
              "      <td>credit_card</td>\n",
              "      <td>2017-03-07 4:00:00</td>\n",
              "      <td>1</td>\n",
              "    </tr>\n",
              "    <tr>\n",
              "      <th>19</th>\n",
              "      <td>20</td>\n",
              "      <td>63</td>\n",
              "      <td>898</td>\n",
              "      <td>408</td>\n",
              "      <td>3</td>\n",
              "      <td>credit_card</td>\n",
              "      <td>2017-03-29 15:11:52</td>\n",
              "      <td>1</td>\n",
              "    </tr>\n",
              "    <tr>\n",
              "      <th>21</th>\n",
              "      <td>22</td>\n",
              "      <td>97</td>\n",
              "      <td>789</td>\n",
              "      <td>486</td>\n",
              "      <td>3</td>\n",
              "      <td>credit_card</td>\n",
              "      <td>2017-03-04 15:44:00</td>\n",
              "      <td>1</td>\n",
              "    </tr>\n",
              "    <tr>\n",
              "      <th>22</th>\n",
              "      <td>23</td>\n",
              "      <td>88</td>\n",
              "      <td>985</td>\n",
              "      <td>704</td>\n",
              "      <td>4</td>\n",
              "      <td>credit_card</td>\n",
              "      <td>2017-03-22 1:19:41</td>\n",
              "      <td>1</td>\n",
              "    </tr>\n",
              "    <tr>\n",
              "      <th>24</th>\n",
              "      <td>25</td>\n",
              "      <td>73</td>\n",
              "      <td>917</td>\n",
              "      <td>495</td>\n",
              "      <td>3</td>\n",
              "      <td>cash</td>\n",
              "      <td>2017-03-03 13:01:03</td>\n",
              "      <td>1</td>\n",
              "    </tr>\n",
              "    <tr>\n",
              "      <th>32</th>\n",
              "      <td>33</td>\n",
              "      <td>76</td>\n",
              "      <td>712</td>\n",
              "      <td>465</td>\n",
              "      <td>3</td>\n",
              "      <td>credit_card</td>\n",
              "      <td>2017-03-10 23:54:10</td>\n",
              "      <td>1</td>\n",
              "    </tr>\n",
              "    <tr>\n",
              "      <th>36</th>\n",
              "      <td>37</td>\n",
              "      <td>84</td>\n",
              "      <td>979</td>\n",
              "      <td>459</td>\n",
              "      <td>3</td>\n",
              "      <td>credit_card</td>\n",
              "      <td>2017-03-05 22:44:34</td>\n",
              "      <td>1</td>\n",
              "    </tr>\n",
              "    <tr>\n",
              "      <th>42</th>\n",
              "      <td>43</td>\n",
              "      <td>18</td>\n",
              "      <td>934</td>\n",
              "      <td>624</td>\n",
              "      <td>4</td>\n",
              "      <td>debit</td>\n",
              "      <td>2017-03-21 6:59:10</td>\n",
              "      <td>1</td>\n",
              "    </tr>\n",
              "    <tr>\n",
              "      <th>45</th>\n",
              "      <td>46</td>\n",
              "      <td>29</td>\n",
              "      <td>969</td>\n",
              "      <td>652</td>\n",
              "      <td>4</td>\n",
              "      <td>credit_card</td>\n",
              "      <td>2017-03-04 8:58:23</td>\n",
              "      <td>1</td>\n",
              "    </tr>\n",
              "    <tr>\n",
              "      <th>47</th>\n",
              "      <td>48</td>\n",
              "      <td>52</td>\n",
              "      <td>791</td>\n",
              "      <td>438</td>\n",
              "      <td>3</td>\n",
              "      <td>cash</td>\n",
              "      <td>2017-03-05 15:50:51</td>\n",
              "      <td>1</td>\n",
              "    </tr>\n",
              "    <tr>\n",
              "      <th>49</th>\n",
              "      <td>50</td>\n",
              "      <td>64</td>\n",
              "      <td>768</td>\n",
              "      <td>399</td>\n",
              "      <td>3</td>\n",
              "      <td>debit</td>\n",
              "      <td>2017-03-02 17:26:07</td>\n",
              "      <td>1</td>\n",
              "    </tr>\n",
              "    <tr>\n",
              "      <th>51</th>\n",
              "      <td>52</td>\n",
              "      <td>81</td>\n",
              "      <td>959</td>\n",
              "      <td>531</td>\n",
              "      <td>3</td>\n",
              "      <td>cash</td>\n",
              "      <td>2017-03-25 22:58:11</td>\n",
              "      <td>1</td>\n",
              "    </tr>\n",
              "    <tr>\n",
              "      <th>52</th>\n",
              "      <td>53</td>\n",
              "      <td>30</td>\n",
              "      <td>968</td>\n",
              "      <td>459</td>\n",
              "      <td>3</td>\n",
              "      <td>cash</td>\n",
              "      <td>2017-03-28 8:15:20</td>\n",
              "      <td>1</td>\n",
              "    </tr>\n",
              "    <tr>\n",
              "      <th>53</th>\n",
              "      <td>54</td>\n",
              "      <td>33</td>\n",
              "      <td>842</td>\n",
              "      <td>692</td>\n",
              "      <td>4</td>\n",
              "      <td>debit</td>\n",
              "      <td>2017-03-08 7:36:34</td>\n",
              "      <td>1</td>\n",
              "    </tr>\n",
              "    <tr>\n",
              "      <th>55</th>\n",
              "      <td>56</td>\n",
              "      <td>51</td>\n",
              "      <td>851</td>\n",
              "      <td>561</td>\n",
              "      <td>3</td>\n",
              "      <td>credit_card</td>\n",
              "      <td>2017-03-13 5:05:25</td>\n",
              "      <td>1</td>\n",
              "    </tr>\n",
              "    <tr>\n",
              "      <th>56</th>\n",
              "      <td>57</td>\n",
              "      <td>53</td>\n",
              "      <td>739</td>\n",
              "      <td>560</td>\n",
              "      <td>5</td>\n",
              "      <td>credit_card</td>\n",
              "      <td>2017-03-18 8:45:21</td>\n",
              "      <td>1</td>\n",
              "    </tr>\n",
              "    <tr>\n",
              "      <th>60</th>\n",
              "      <td>61</td>\n",
              "      <td>42</td>\n",
              "      <td>607</td>\n",
              "      <td>704000</td>\n",
              "      <td>2000</td>\n",
              "      <td>credit_card</td>\n",
              "      <td>2017-03-04 4:00:00</td>\n",
              "      <td>1</td>\n",
              "    </tr>\n",
              "    <tr>\n",
              "      <th>61</th>\n",
              "      <td>62</td>\n",
              "      <td>60</td>\n",
              "      <td>720</td>\n",
              "      <td>531</td>\n",
              "      <td>3</td>\n",
              "      <td>debit</td>\n",
              "      <td>2017-03-21 18:08:34</td>\n",
              "      <td>1</td>\n",
              "    </tr>\n",
              "    <tr>\n",
              "      <th>64</th>\n",
              "      <td>65</td>\n",
              "      <td>72</td>\n",
              "      <td>887</td>\n",
              "      <td>480</td>\n",
              "      <td>3</td>\n",
              "      <td>credit_card</td>\n",
              "      <td>2017-03-02 0:15:05</td>\n",
              "      <td>1</td>\n",
              "    </tr>\n",
              "  </tbody>\n",
              "</table>\n",
              "</div>"
            ],
            "text/plain": [
              "    order_id  shop_id  user_id  ...  payment_method           created_at outlier\n",
              "14        15       87      849  ...     credit_card  2017-03-10 11:23:18       1\n",
              "15        16       42      607  ...     credit_card   2017-03-07 4:00:00       1\n",
              "19        20       63      898  ...     credit_card  2017-03-29 15:11:52       1\n",
              "21        22       97      789  ...     credit_card  2017-03-04 15:44:00       1\n",
              "22        23       88      985  ...     credit_card   2017-03-22 1:19:41       1\n",
              "24        25       73      917  ...            cash  2017-03-03 13:01:03       1\n",
              "32        33       76      712  ...     credit_card  2017-03-10 23:54:10       1\n",
              "36        37       84      979  ...     credit_card  2017-03-05 22:44:34       1\n",
              "42        43       18      934  ...           debit   2017-03-21 6:59:10       1\n",
              "45        46       29      969  ...     credit_card   2017-03-04 8:58:23       1\n",
              "47        48       52      791  ...            cash  2017-03-05 15:50:51       1\n",
              "49        50       64      768  ...           debit  2017-03-02 17:26:07       1\n",
              "51        52       81      959  ...            cash  2017-03-25 22:58:11       1\n",
              "52        53       30      968  ...            cash   2017-03-28 8:15:20       1\n",
              "53        54       33      842  ...           debit   2017-03-08 7:36:34       1\n",
              "55        56       51      851  ...     credit_card   2017-03-13 5:05:25       1\n",
              "56        57       53      739  ...     credit_card   2017-03-18 8:45:21       1\n",
              "60        61       42      607  ...     credit_card   2017-03-04 4:00:00       1\n",
              "61        62       60      720  ...           debit  2017-03-21 18:08:34       1\n",
              "64        65       72      887  ...     credit_card   2017-03-02 0:15:05       1\n",
              "\n",
              "[20 rows x 8 columns]"
            ]
          },
          "metadata": {
            "tags": []
          },
          "execution_count": 12
        }
      ]
    },
    {
      "cell_type": "code",
      "metadata": {
        "colab": {
          "base_uri": "https://localhost:8080/"
        },
        "id": "PUZMFz_rapTB",
        "outputId": "aa1e2bcf-7d1f-434d-d929-2a49f3f0c003"
      },
      "source": [
        "# Get the sum of all of the total items in the orders dataset\n",
        "tot_items = orders.total_items.sum()\n",
        "# Get the sum of all of the order amounts in the orders dataset\n",
        "tot_amt = orders.order_amount.sum()\n",
        "\n",
        "print(f'Total number of items purchased: {tot_items}\\n')\n",
        "print(f'Total amount of sales: ${tot_amt:,.2f}\\n')\n",
        "print(f'Average price per item: ${tot_amt/tot_items:,.2f}\\n')"
      ],
      "execution_count": 13,
      "outputs": [
        {
          "output_type": "stream",
          "text": [
            "Total number of items purchased: 43936\n",
            "\n",
            "Total amount of sales: $15,725,640.00\n",
            "\n",
            "Average price per item: $357.92\n",
            "\n"
          ],
          "name": "stdout"
        }
      ]
    },
    {
      "cell_type": "markdown",
      "metadata": {
        "id": "IBu4jpeK-koN"
      },
      "source": [
        "I can see from the above values that the average price per item, with the outliers included, is approximately $357.92. To me this seems fairly high for a pair of sneakers, but I do believe this could be possible. However, I do not believe that this is a normal thing and based on the data pattern, this does not appear to be normal. \n",
        "\n",
        "My next step is to remove the outliers, since I have limited data on why these outliers are occuring."
      ]
    },
    {
      "cell_type": "code",
      "metadata": {
        "colab": {
          "base_uri": "https://localhost:8080/",
          "height": 686
        },
        "id": "wCimN00wfUFz",
        "outputId": "22ca20b5-4dec-47ed-ae6f-121a287b410f"
      },
      "source": [
        "# Create a new DataFrame without the outliers\n",
        "no_outliers = orders.loc[orders['outlier'] == 0]\n",
        "\n",
        "# Check my work\n",
        "print(no_outliers.shape)\n",
        "# Look at some of the data\n",
        "no_outliers.head(20)"
      ],
      "execution_count": 14,
      "outputs": [
        {
          "output_type": "stream",
          "text": [
            "(3753, 8)\n"
          ],
          "name": "stdout"
        },
        {
          "output_type": "execute_result",
          "data": {
            "text/html": [
              "<div>\n",
              "<style scoped>\n",
              "    .dataframe tbody tr th:only-of-type {\n",
              "        vertical-align: middle;\n",
              "    }\n",
              "\n",
              "    .dataframe tbody tr th {\n",
              "        vertical-align: top;\n",
              "    }\n",
              "\n",
              "    .dataframe thead th {\n",
              "        text-align: right;\n",
              "    }\n",
              "</style>\n",
              "<table border=\"1\" class=\"dataframe\">\n",
              "  <thead>\n",
              "    <tr style=\"text-align: right;\">\n",
              "      <th></th>\n",
              "      <th>order_id</th>\n",
              "      <th>shop_id</th>\n",
              "      <th>user_id</th>\n",
              "      <th>order_amount</th>\n",
              "      <th>total_items</th>\n",
              "      <th>payment_method</th>\n",
              "      <th>created_at</th>\n",
              "      <th>outlier</th>\n",
              "    </tr>\n",
              "  </thead>\n",
              "  <tbody>\n",
              "    <tr>\n",
              "      <th>0</th>\n",
              "      <td>1</td>\n",
              "      <td>53</td>\n",
              "      <td>746</td>\n",
              "      <td>224</td>\n",
              "      <td>2</td>\n",
              "      <td>cash</td>\n",
              "      <td>2017-03-13 12:36:56</td>\n",
              "      <td>0</td>\n",
              "    </tr>\n",
              "    <tr>\n",
              "      <th>1</th>\n",
              "      <td>2</td>\n",
              "      <td>92</td>\n",
              "      <td>925</td>\n",
              "      <td>90</td>\n",
              "      <td>1</td>\n",
              "      <td>cash</td>\n",
              "      <td>2017-03-03 17:38:52</td>\n",
              "      <td>0</td>\n",
              "    </tr>\n",
              "    <tr>\n",
              "      <th>2</th>\n",
              "      <td>3</td>\n",
              "      <td>44</td>\n",
              "      <td>861</td>\n",
              "      <td>144</td>\n",
              "      <td>1</td>\n",
              "      <td>cash</td>\n",
              "      <td>2017-03-14 4:23:56</td>\n",
              "      <td>0</td>\n",
              "    </tr>\n",
              "    <tr>\n",
              "      <th>3</th>\n",
              "      <td>4</td>\n",
              "      <td>18</td>\n",
              "      <td>935</td>\n",
              "      <td>156</td>\n",
              "      <td>1</td>\n",
              "      <td>credit_card</td>\n",
              "      <td>2017-03-26 12:43:37</td>\n",
              "      <td>0</td>\n",
              "    </tr>\n",
              "    <tr>\n",
              "      <th>4</th>\n",
              "      <td>5</td>\n",
              "      <td>18</td>\n",
              "      <td>883</td>\n",
              "      <td>156</td>\n",
              "      <td>1</td>\n",
              "      <td>credit_card</td>\n",
              "      <td>2017-03-01 4:35:11</td>\n",
              "      <td>0</td>\n",
              "    </tr>\n",
              "    <tr>\n",
              "      <th>5</th>\n",
              "      <td>6</td>\n",
              "      <td>58</td>\n",
              "      <td>882</td>\n",
              "      <td>138</td>\n",
              "      <td>1</td>\n",
              "      <td>credit_card</td>\n",
              "      <td>2017-03-14 15:25:01</td>\n",
              "      <td>0</td>\n",
              "    </tr>\n",
              "    <tr>\n",
              "      <th>6</th>\n",
              "      <td>7</td>\n",
              "      <td>87</td>\n",
              "      <td>915</td>\n",
              "      <td>149</td>\n",
              "      <td>1</td>\n",
              "      <td>cash</td>\n",
              "      <td>2017-03-01 21:37:57</td>\n",
              "      <td>0</td>\n",
              "    </tr>\n",
              "    <tr>\n",
              "      <th>7</th>\n",
              "      <td>8</td>\n",
              "      <td>22</td>\n",
              "      <td>761</td>\n",
              "      <td>292</td>\n",
              "      <td>2</td>\n",
              "      <td>cash</td>\n",
              "      <td>2017-03-08 2:05:38</td>\n",
              "      <td>0</td>\n",
              "    </tr>\n",
              "    <tr>\n",
              "      <th>8</th>\n",
              "      <td>9</td>\n",
              "      <td>64</td>\n",
              "      <td>914</td>\n",
              "      <td>266</td>\n",
              "      <td>2</td>\n",
              "      <td>debit</td>\n",
              "      <td>2017-03-17 20:56:50</td>\n",
              "      <td>0</td>\n",
              "    </tr>\n",
              "    <tr>\n",
              "      <th>9</th>\n",
              "      <td>10</td>\n",
              "      <td>52</td>\n",
              "      <td>788</td>\n",
              "      <td>146</td>\n",
              "      <td>1</td>\n",
              "      <td>credit_card</td>\n",
              "      <td>2017-03-30 21:08:26</td>\n",
              "      <td>0</td>\n",
              "    </tr>\n",
              "    <tr>\n",
              "      <th>10</th>\n",
              "      <td>11</td>\n",
              "      <td>66</td>\n",
              "      <td>848</td>\n",
              "      <td>322</td>\n",
              "      <td>2</td>\n",
              "      <td>credit_card</td>\n",
              "      <td>2017-03-26 23:36:40</td>\n",
              "      <td>0</td>\n",
              "    </tr>\n",
              "    <tr>\n",
              "      <th>11</th>\n",
              "      <td>12</td>\n",
              "      <td>40</td>\n",
              "      <td>983</td>\n",
              "      <td>322</td>\n",
              "      <td>2</td>\n",
              "      <td>debit</td>\n",
              "      <td>2017-03-12 17:58:30</td>\n",
              "      <td>0</td>\n",
              "    </tr>\n",
              "    <tr>\n",
              "      <th>12</th>\n",
              "      <td>13</td>\n",
              "      <td>54</td>\n",
              "      <td>799</td>\n",
              "      <td>266</td>\n",
              "      <td>2</td>\n",
              "      <td>credit_card</td>\n",
              "      <td>2017-03-16 14:15:34</td>\n",
              "      <td>0</td>\n",
              "    </tr>\n",
              "    <tr>\n",
              "      <th>13</th>\n",
              "      <td>14</td>\n",
              "      <td>100</td>\n",
              "      <td>709</td>\n",
              "      <td>111</td>\n",
              "      <td>1</td>\n",
              "      <td>cash</td>\n",
              "      <td>2017-03-22 2:39:49</td>\n",
              "      <td>0</td>\n",
              "    </tr>\n",
              "    <tr>\n",
              "      <th>16</th>\n",
              "      <td>17</td>\n",
              "      <td>17</td>\n",
              "      <td>731</td>\n",
              "      <td>176</td>\n",
              "      <td>1</td>\n",
              "      <td>cash</td>\n",
              "      <td>2017-03-21 4:23:38</td>\n",
              "      <td>0</td>\n",
              "    </tr>\n",
              "    <tr>\n",
              "      <th>17</th>\n",
              "      <td>18</td>\n",
              "      <td>28</td>\n",
              "      <td>752</td>\n",
              "      <td>164</td>\n",
              "      <td>1</td>\n",
              "      <td>credit_card</td>\n",
              "      <td>2017-03-21 12:09:07</td>\n",
              "      <td>0</td>\n",
              "    </tr>\n",
              "    <tr>\n",
              "      <th>18</th>\n",
              "      <td>19</td>\n",
              "      <td>83</td>\n",
              "      <td>761</td>\n",
              "      <td>258</td>\n",
              "      <td>2</td>\n",
              "      <td>cash</td>\n",
              "      <td>2017-03-17 13:18:47</td>\n",
              "      <td>0</td>\n",
              "    </tr>\n",
              "    <tr>\n",
              "      <th>20</th>\n",
              "      <td>21</td>\n",
              "      <td>66</td>\n",
              "      <td>987</td>\n",
              "      <td>322</td>\n",
              "      <td>2</td>\n",
              "      <td>cash</td>\n",
              "      <td>2017-03-30 20:11:59</td>\n",
              "      <td>0</td>\n",
              "    </tr>\n",
              "    <tr>\n",
              "      <th>23</th>\n",
              "      <td>24</td>\n",
              "      <td>75</td>\n",
              "      <td>964</td>\n",
              "      <td>256</td>\n",
              "      <td>2</td>\n",
              "      <td>credit_card</td>\n",
              "      <td>2017-03-12 3:07:42</td>\n",
              "      <td>0</td>\n",
              "    </tr>\n",
              "    <tr>\n",
              "      <th>25</th>\n",
              "      <td>26</td>\n",
              "      <td>82</td>\n",
              "      <td>848</td>\n",
              "      <td>177</td>\n",
              "      <td>1</td>\n",
              "      <td>cash</td>\n",
              "      <td>2017-03-25 21:35:12</td>\n",
              "      <td>0</td>\n",
              "    </tr>\n",
              "  </tbody>\n",
              "</table>\n",
              "</div>"
            ],
            "text/plain": [
              "    order_id  shop_id  user_id  ...  payment_method           created_at outlier\n",
              "0          1       53      746  ...            cash  2017-03-13 12:36:56       0\n",
              "1          2       92      925  ...            cash  2017-03-03 17:38:52       0\n",
              "2          3       44      861  ...            cash   2017-03-14 4:23:56       0\n",
              "3          4       18      935  ...     credit_card  2017-03-26 12:43:37       0\n",
              "4          5       18      883  ...     credit_card   2017-03-01 4:35:11       0\n",
              "5          6       58      882  ...     credit_card  2017-03-14 15:25:01       0\n",
              "6          7       87      915  ...            cash  2017-03-01 21:37:57       0\n",
              "7          8       22      761  ...            cash   2017-03-08 2:05:38       0\n",
              "8          9       64      914  ...           debit  2017-03-17 20:56:50       0\n",
              "9         10       52      788  ...     credit_card  2017-03-30 21:08:26       0\n",
              "10        11       66      848  ...     credit_card  2017-03-26 23:36:40       0\n",
              "11        12       40      983  ...           debit  2017-03-12 17:58:30       0\n",
              "12        13       54      799  ...     credit_card  2017-03-16 14:15:34       0\n",
              "13        14      100      709  ...            cash   2017-03-22 2:39:49       0\n",
              "16        17       17      731  ...            cash   2017-03-21 4:23:38       0\n",
              "17        18       28      752  ...     credit_card  2017-03-21 12:09:07       0\n",
              "18        19       83      761  ...            cash  2017-03-17 13:18:47       0\n",
              "20        21       66      987  ...            cash  2017-03-30 20:11:59       0\n",
              "23        24       75      964  ...     credit_card   2017-03-12 3:07:42       0\n",
              "25        26       82      848  ...            cash  2017-03-25 21:35:12       0\n",
              "\n",
              "[20 rows x 8 columns]"
            ]
          },
          "metadata": {
            "tags": []
          },
          "execution_count": 14
        }
      ]
    },
    {
      "cell_type": "code",
      "metadata": {
        "colab": {
          "base_uri": "https://localhost:8080/"
        },
        "id": "owVkiifbfhP6",
        "outputId": "7fb2d6fd-1869-426d-a169-83a497aafbdc"
      },
      "source": [
        "# Get the sum of the total items without the outliers\n",
        "tot_items = no_outliers.total_items.sum()\n",
        "# Get the sum of the total order amounts without the outliers\n",
        "tot_amt = no_outliers.order_amount.sum()\n",
        "# Get the total number of occurances without the outliers\n",
        "num_sales = no_outliers.shape[0]\n",
        "\n",
        "print(f'Total number of items purchased without outliers: {tot_items}\\n')\n",
        "print(f'Total amount of sales without outliers: ${tot_amt:,.2f}\\n')\n",
        "print(f'Total number of sales without outliers: {num_sales}\\n')\n",
        "print(f'Average price per item without outliers: ${tot_amt/tot_items:,.2f}\\n')\n",
        "print(f'Average sale amount without the outliers: ${tot_amt/num_sales:,.2f}\\n')\n",
        "print(\n",
        "    f'Median order amount with outliers: ${orders.order_amount.median():,.2f}\\n'\n",
        "    )\n",
        "print(\n",
        "    f'Median order amount without outliers: \\\n",
        "${no_outliers.order_amount.median():,.2f}\\n'\n",
        "    )"
      ],
      "execution_count": 15,
      "outputs": [
        {
          "output_type": "stream",
          "text": [
            "Total number of items purchased without outliers: 5880\n",
            "\n",
            "Total amount of sales without outliers: $864,914.00\n",
            "\n",
            "Total number of sales without outliers: 3753\n",
            "\n",
            "Average price per item without outliers: $147.09\n",
            "\n",
            "Average sale amount without the outliers: $230.46\n",
            "\n",
            "Median order amount with outliers: $284.00\n",
            "\n",
            "Median order amount without outliers: $224.00\n",
            "\n"
          ],
          "name": "stdout"
        }
      ]
    },
    {
      "cell_type": "code",
      "metadata": {
        "colab": {
          "base_uri": "https://localhost:8080/",
          "height": 297
        },
        "id": "nZilcEsfDYh1",
        "outputId": "e2cc456e-26da-4575-907f-126d04f63b99"
      },
      "source": [
        "# Look at the statistics of the orders dataset without the outliers\n",
        "no_outliers.describe()"
      ],
      "execution_count": 16,
      "outputs": [
        {
          "output_type": "execute_result",
          "data": {
            "text/html": [
              "<div>\n",
              "<style scoped>\n",
              "    .dataframe tbody tr th:only-of-type {\n",
              "        vertical-align: middle;\n",
              "    }\n",
              "\n",
              "    .dataframe tbody tr th {\n",
              "        vertical-align: top;\n",
              "    }\n",
              "\n",
              "    .dataframe thead th {\n",
              "        text-align: right;\n",
              "    }\n",
              "</style>\n",
              "<table border=\"1\" class=\"dataframe\">\n",
              "  <thead>\n",
              "    <tr style=\"text-align: right;\">\n",
              "      <th></th>\n",
              "      <th>order_id</th>\n",
              "      <th>shop_id</th>\n",
              "      <th>user_id</th>\n",
              "      <th>order_amount</th>\n",
              "      <th>total_items</th>\n",
              "      <th>outlier</th>\n",
              "    </tr>\n",
              "  </thead>\n",
              "  <tbody>\n",
              "    <tr>\n",
              "      <th>count</th>\n",
              "      <td>3753.000000</td>\n",
              "      <td>3753.000000</td>\n",
              "      <td>3753.000000</td>\n",
              "      <td>3753.000000</td>\n",
              "      <td>3753.000000</td>\n",
              "      <td>3753.0</td>\n",
              "    </tr>\n",
              "    <tr>\n",
              "      <th>mean</th>\n",
              "      <td>2513.408740</td>\n",
              "      <td>49.369571</td>\n",
              "      <td>850.266454</td>\n",
              "      <td>230.459366</td>\n",
              "      <td>1.566747</td>\n",
              "      <td>0.0</td>\n",
              "    </tr>\n",
              "    <tr>\n",
              "      <th>std</th>\n",
              "      <td>1446.148414</td>\n",
              "      <td>29.143076</td>\n",
              "      <td>86.773818</td>\n",
              "      <td>85.971642</td>\n",
              "      <td>0.588973</td>\n",
              "      <td>0.0</td>\n",
              "    </tr>\n",
              "    <tr>\n",
              "      <th>min</th>\n",
              "      <td>1.000000</td>\n",
              "      <td>1.000000</td>\n",
              "      <td>700.000000</td>\n",
              "      <td>90.000000</td>\n",
              "      <td>1.000000</td>\n",
              "      <td>0.0</td>\n",
              "    </tr>\n",
              "    <tr>\n",
              "      <th>25%</th>\n",
              "      <td>1261.000000</td>\n",
              "      <td>24.000000</td>\n",
              "      <td>776.000000</td>\n",
              "      <td>153.000000</td>\n",
              "      <td>1.000000</td>\n",
              "      <td>0.0</td>\n",
              "    </tr>\n",
              "    <tr>\n",
              "      <th>50%</th>\n",
              "      <td>2519.000000</td>\n",
              "      <td>49.000000</td>\n",
              "      <td>851.000000</td>\n",
              "      <td>224.000000</td>\n",
              "      <td>2.000000</td>\n",
              "      <td>0.0</td>\n",
              "    </tr>\n",
              "    <tr>\n",
              "      <th>75%</th>\n",
              "      <td>3767.000000</td>\n",
              "      <td>74.000000</td>\n",
              "      <td>925.000000</td>\n",
              "      <td>312.000000</td>\n",
              "      <td>2.000000</td>\n",
              "      <td>0.0</td>\n",
              "    </tr>\n",
              "    <tr>\n",
              "      <th>max</th>\n",
              "      <td>5000.000000</td>\n",
              "      <td>100.000000</td>\n",
              "      <td>999.000000</td>\n",
              "      <td>390.000000</td>\n",
              "      <td>4.000000</td>\n",
              "      <td>0.0</td>\n",
              "    </tr>\n",
              "  </tbody>\n",
              "</table>\n",
              "</div>"
            ],
            "text/plain": [
              "          order_id      shop_id  ...  total_items  outlier\n",
              "count  3753.000000  3753.000000  ...  3753.000000   3753.0\n",
              "mean   2513.408740    49.369571  ...     1.566747      0.0\n",
              "std    1446.148414    29.143076  ...     0.588973      0.0\n",
              "min       1.000000     1.000000  ...     1.000000      0.0\n",
              "25%    1261.000000    24.000000  ...     1.000000      0.0\n",
              "50%    2519.000000    49.000000  ...     2.000000      0.0\n",
              "75%    3767.000000    74.000000  ...     2.000000      0.0\n",
              "max    5000.000000   100.000000  ...     4.000000      0.0\n",
              "\n",
              "[8 rows x 6 columns]"
            ]
          },
          "metadata": {
            "tags": []
          },
          "execution_count": 16
        }
      ]
    },
    {
      "cell_type": "markdown",
      "metadata": {
        "id": "_wCI0fLmBDdU"
      },
      "source": [
        "Now that the outliers have been removed, this mean (average) looks a lot more reasonable and make more logical sense.\n",
        "\n",
        "So the **AOV** is actually **$230.46**"
      ]
    }
  ]
}